{
  "cells": [
    {
      "cell_type": "markdown",
      "id": "d2d97973",
      "metadata": {
        "id": "d2d97973"
      },
      "source": [
        "#Random Forest Classification\n",
        "#### Source : [Indonesia Belajar](https://youtu.be/yKovaQ6tyV8)"
      ]
    },
    {
      "cell_type": "markdown",
      "id": "2d14be73",
      "metadata": {
        "id": "2d14be73"
      },
      "source": [
        "### General ML Model Training"
      ]
    },
    {
      "cell_type": "markdown",
      "id": "60f71f2c",
      "metadata": {
        "id": "60f71f2c"
      },
      "source": [
        "- Training dalam machine learning digunakan untuk memprediksi target dari feature.\n",
        "\n",
        "<div>\n",
        "    <img src=\"./images/general_ML_model_training.png\" width=\"500\">\n",
        "</div>"
      ]
    },
    {
      "cell_type": "markdown",
      "id": "e2259391",
      "metadata": {
        "id": "e2259391"
      },
      "source": [
        "### Ensemble Learning: heterogeneous & homogeneous"
      ]
    },
    {
      "cell_type": "markdown",
      "id": "81e0e13b",
      "metadata": {
        "id": "81e0e13b"
      },
      "source": [
        "Referensi: https://en.wikipedia.org/wiki/Ensemble_learning\n",
        "\n",
        "- Ensemble learning adalah teknik prediksi untuk menggabungkan beberapa model yang ada.\n",
        "- Heterogeneous adalah ensemble learning dengan jenis yang berbeda.\n",
        "- Homogeneus adalah ensemble learning dengan jenis yang sama.\n",
        "- Seperti yang terlihat pada gambar dibawah ini, prediksi yang dihasilkan lebih dari 1, maka diperlukan *majority voting*.\n",
        "    - Pada regression task, dilakukan menggunakan mean. Sedangkan,\n",
        "    - Pada classification task, dilakukan menggunakan mode.\n",
        "\n",
        "<div>\n",
        "    <img src=\"./images/ensemble_learning.png\" width=\"500\">\n",
        "</div>"
      ]
    },
    {
      "cell_type": "markdown",
      "id": "3f144deb",
      "metadata": {
        "id": "3f144deb"
      },
      "source": [
        "### Bagging: Bootstrap Aggregating"
      ]
    },
    {
      "cell_type": "markdown",
      "id": "c6846641",
      "metadata": {
        "id": "c6846641"
      },
      "source": [
        "Referensi: https://en.wikipedia.org/wiki/Bootstrap_aggregating\n",
        "\n",
        "- Bagging merupakan implementasi dari ensemble learning (homogeneus).\n",
        "- Data yang baru dari bagging ini dihasilkan dari random sampling with replacement di training set.\n",
        "\n",
        "<div>\n",
        "    <img src=\"./images/bagging.png\" width=\"500\">\n",
        "</div>"
      ]
    },
    {
      "cell_type": "markdown",
      "id": "f72d1494",
      "metadata": {
        "id": "f72d1494"
      },
      "source": [
        "### Random Forest"
      ]
    },
    {
      "cell_type": "markdown",
      "id": "133e1846",
      "metadata": {
        "id": "133e1846"
      },
      "source": [
        "Referensi: https://en.wikipedia.org/wiki/Random_forest\n",
        "\n",
        "- Model yang digunakan oleh Random Forest adalah decision tree. Namun,\n",
        "- Performanya lebih hebat dibandingkan decision tree.\n",
        "\n",
        "<div>\n",
        "    <img src=\"./images/random_forest.png\" width=\"500\">\n",
        "</div>"
      ]
    },
    {
      "cell_type": "markdown",
      "id": "063d3ef2",
      "metadata": {
        "id": "063d3ef2"
      },
      "source": [
        "### Dataset"
      ]
    },
    {
      "cell_type": "markdown",
      "id": "e94c7002",
      "metadata": {
        "id": "e94c7002"
      },
      "source": [
        "Referensi: https://en.wikipedia.org/wiki/Iris_flower_data_set"
      ]
    },
    {
      "cell_type": "code",
      "execution_count": null,
      "id": "4691e97a",
      "metadata": {
        "id": "4691e97a",
        "outputId": "846f5032-df8b-4957-c283-ef3034b91ada"
      },
      "outputs": [
        {
          "name": "stdout",
          "output_type": "stream",
          "text": [
            "Dimensi Feature: (150, 4)\n",
            "Class: {0, 1, 2}\n"
          ]
        }
      ],
      "source": [
        "from sklearn.datasets import load_iris\n",
        "\n",
        "X, y = load_iris(return_X_y=True)\n",
        "\n",
        "print(f'Dimensi Feature: {X.shape}')\n",
        "print(f'Class: {set(y)}')"
      ]
    },
    {
      "cell_type": "code",
      "execution_count": null,
      "id": "7e02e3c5",
      "metadata": {
        "id": "7e02e3c5"
      },
      "outputs": [],
      "source": [
        "from sklearn.model_selection import train_test_split\n",
        "\n",
        "X_train, X_test, y_train, y_test = train_test_split(X,\n",
        "                                                    y,\n",
        "                                                    test_size=0.3,\n",
        "                                                    random_state=0)"
      ]
    },
    {
      "cell_type": "markdown",
      "id": "bb8a15bc",
      "metadata": {
        "id": "bb8a15bc"
      },
      "source": [
        "### Classification dengan `RandomForestClassifier`"
      ]
    },
    {
      "cell_type": "markdown",
      "id": "c634bed1",
      "metadata": {
        "id": "c634bed1"
      },
      "source": [
        "- Parameter `n_setimators` merepresentasikan banyaknya decision tree yang ditraining nantinya."
      ]
    },
    {
      "cell_type": "code",
      "execution_count": null,
      "id": "5998dcb0",
      "metadata": {
        "id": "5998dcb0",
        "outputId": "d66d238e-6fda-4910-caf9-176a7ec50acc"
      },
      "outputs": [
        {
          "data": {
            "text/plain": [
              "RandomForestClassifier(random_state=0)"
            ]
          },
          "execution_count": 3,
          "metadata": {},
          "output_type": "execute_result"
        }
      ],
      "source": [
        "from sklearn.ensemble import RandomForestClassifier\n",
        "\n",
        "model = RandomForestClassifier(n_estimators=100, \n",
        "                               random_state=0)\n",
        "\n",
        "model.fit(X_train, y_train)"
      ]
    },
    {
      "cell_type": "markdown",
      "id": "339491a5",
      "metadata": {
        "id": "339491a5"
      },
      "source": [
        "### Evaluasi Model"
      ]
    },
    {
      "cell_type": "code",
      "execution_count": null,
      "id": "19f6bee7",
      "metadata": {
        "id": "19f6bee7",
        "outputId": "47946af2-21e5-49f7-e66d-2bdf7b1e019e"
      },
      "outputs": [
        {
          "name": "stdout",
          "output_type": "stream",
          "text": [
            "              precision    recall  f1-score   support\n",
            "\n",
            "           0       1.00      1.00      1.00        16\n",
            "           1       1.00      0.94      0.97        18\n",
            "           2       0.92      1.00      0.96        11\n",
            "\n",
            "    accuracy                           0.98        45\n",
            "   macro avg       0.97      0.98      0.98        45\n",
            "weighted avg       0.98      0.98      0.98        45\n",
            "\n"
          ]
        }
      ],
      "source": [
        "from sklearn.metrics import classification_report\n",
        "\n",
        "y_pred = model.predict(X_test)\n",
        "\n",
        "print(classification_report(y_test, y_pred))"
      ]
    }
  ],
  "metadata": {
    "kernelspec": {
      "display_name": "Python 3",
      "language": "python",
      "name": "python3"
    },
    "language_info": {
      "codemirror_mode": {
        "name": "ipython",
        "version": 3
      },
      "file_extension": ".py",
      "mimetype": "text/x-python",
      "name": "python",
      "nbconvert_exporter": "python",
      "pygments_lexer": "ipython3",
      "version": "3.8.8"
    },
    "colab": {
      "provenance": []
    }
  },
  "nbformat": 4,
  "nbformat_minor": 5
}