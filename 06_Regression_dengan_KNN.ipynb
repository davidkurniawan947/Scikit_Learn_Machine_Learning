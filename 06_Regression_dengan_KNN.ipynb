{
  "nbformat": 4,
  "nbformat_minor": 0,
  "metadata": {
    "colab": {
      "provenance": []
    },
    "kernelspec": {
      "name": "python3",
      "display_name": "Python 3"
    },
    "language_info": {
      "name": "python"
    }
  },
  "cells": [
    {
      "cell_type": "markdown",
      "source": [
        "# Regression dengan KNN | K-Nearest Neighbours\n",
        "#### Source : [Indonesia Belajar](https://youtu.be/W8adIcfv16M)"
      ],
      "metadata": {
        "id": "r0jPb29s9qqV"
      }
    },
    {
      "cell_type": "markdown",
      "source": [
        "- KNN adalah model machine learning yang dapat digunakan untuk melakukan prediksi berdasarkan kedekatan karakteristik dengan sejumlah tetangga terdekat.\n",
        "- Prediksi yang dilakukan dapat diterapkan baik pada classification maupun regression tasks.\n",
        "\n",
        "Referensi: https://en.wikipedia.org/wiki/K-nearest_neighbors_algorithm"
      ],
      "metadata": {
        "id": "l8gGQTW59yS8"
      }
    },
    {
      "cell_type": "markdown",
      "source": [
        "## Sample Dataset\n",
        "- Membuat dataframe dari dataset menggunakan dictionary dengan berat akan menjadi target sedangkan nilai jenis kelamin dan tinggi akan menjadi features. "
      ],
      "metadata": {
        "id": "roQ0t5kH92dZ"
      }
    },
    {
      "cell_type": "code",
      "source": [
        "import pandas as pd\n",
        "\n",
        "sensus = {'tinggi': [158, 170, 183, 191, 155, 163, 180, 158, 170], \n",
        "          'jk': ['pria', 'pria', 'pria', 'pria', 'wanita', 'wanita', 'wanita', 'wanita', 'wanita'],\n",
        "          'berat': [64, 86, 84, 80, 49, 59, 67, 54, 67]}\n",
        "\n",
        "sensus_df = pd.DataFrame(sensus)\n",
        "sensus_df"
      ],
      "metadata": {
        "colab": {
          "base_uri": "https://localhost:8080/",
          "height": 331
        },
        "id": "0X6XTRKJ-NJp",
        "outputId": "ca7f2afb-b0e9-4fcb-99ca-7f5604a3ae57"
      },
      "execution_count": 1,
      "outputs": [
        {
          "output_type": "execute_result",
          "data": {
            "text/plain": [
              "   tinggi      jk  berat\n",
              "0     158    pria     64\n",
              "1     170    pria     86\n",
              "2     183    pria     84\n",
              "3     191    pria     80\n",
              "4     155  wanita     49\n",
              "5     163  wanita     59\n",
              "6     180  wanita     67\n",
              "7     158  wanita     54\n",
              "8     170  wanita     67"
            ],
            "text/html": [
              "\n",
              "  <div id=\"df-f7d786bb-9f8a-4fab-ac06-5f1ae5c34991\">\n",
              "    <div class=\"colab-df-container\">\n",
              "      <div>\n",
              "<style scoped>\n",
              "    .dataframe tbody tr th:only-of-type {\n",
              "        vertical-align: middle;\n",
              "    }\n",
              "\n",
              "    .dataframe tbody tr th {\n",
              "        vertical-align: top;\n",
              "    }\n",
              "\n",
              "    .dataframe thead th {\n",
              "        text-align: right;\n",
              "    }\n",
              "</style>\n",
              "<table border=\"1\" class=\"dataframe\">\n",
              "  <thead>\n",
              "    <tr style=\"text-align: right;\">\n",
              "      <th></th>\n",
              "      <th>tinggi</th>\n",
              "      <th>jk</th>\n",
              "      <th>berat</th>\n",
              "    </tr>\n",
              "  </thead>\n",
              "  <tbody>\n",
              "    <tr>\n",
              "      <th>0</th>\n",
              "      <td>158</td>\n",
              "      <td>pria</td>\n",
              "      <td>64</td>\n",
              "    </tr>\n",
              "    <tr>\n",
              "      <th>1</th>\n",
              "      <td>170</td>\n",
              "      <td>pria</td>\n",
              "      <td>86</td>\n",
              "    </tr>\n",
              "    <tr>\n",
              "      <th>2</th>\n",
              "      <td>183</td>\n",
              "      <td>pria</td>\n",
              "      <td>84</td>\n",
              "    </tr>\n",
              "    <tr>\n",
              "      <th>3</th>\n",
              "      <td>191</td>\n",
              "      <td>pria</td>\n",
              "      <td>80</td>\n",
              "    </tr>\n",
              "    <tr>\n",
              "      <th>4</th>\n",
              "      <td>155</td>\n",
              "      <td>wanita</td>\n",
              "      <td>49</td>\n",
              "    </tr>\n",
              "    <tr>\n",
              "      <th>5</th>\n",
              "      <td>163</td>\n",
              "      <td>wanita</td>\n",
              "      <td>59</td>\n",
              "    </tr>\n",
              "    <tr>\n",
              "      <th>6</th>\n",
              "      <td>180</td>\n",
              "      <td>wanita</td>\n",
              "      <td>67</td>\n",
              "    </tr>\n",
              "    <tr>\n",
              "      <th>7</th>\n",
              "      <td>158</td>\n",
              "      <td>wanita</td>\n",
              "      <td>54</td>\n",
              "    </tr>\n",
              "    <tr>\n",
              "      <th>8</th>\n",
              "      <td>170</td>\n",
              "      <td>wanita</td>\n",
              "      <td>67</td>\n",
              "    </tr>\n",
              "  </tbody>\n",
              "</table>\n",
              "</div>\n",
              "      <button class=\"colab-df-convert\" onclick=\"convertToInteractive('df-f7d786bb-9f8a-4fab-ac06-5f1ae5c34991')\"\n",
              "              title=\"Convert this dataframe to an interactive table.\"\n",
              "              style=\"display:none;\">\n",
              "        \n",
              "  <svg xmlns=\"http://www.w3.org/2000/svg\" height=\"24px\"viewBox=\"0 0 24 24\"\n",
              "       width=\"24px\">\n",
              "    <path d=\"M0 0h24v24H0V0z\" fill=\"none\"/>\n",
              "    <path d=\"M18.56 5.44l.94 2.06.94-2.06 2.06-.94-2.06-.94-.94-2.06-.94 2.06-2.06.94zm-11 1L8.5 8.5l.94-2.06 2.06-.94-2.06-.94L8.5 2.5l-.94 2.06-2.06.94zm10 10l.94 2.06.94-2.06 2.06-.94-2.06-.94-.94-2.06-.94 2.06-2.06.94z\"/><path d=\"M17.41 7.96l-1.37-1.37c-.4-.4-.92-.59-1.43-.59-.52 0-1.04.2-1.43.59L10.3 9.45l-7.72 7.72c-.78.78-.78 2.05 0 2.83L4 21.41c.39.39.9.59 1.41.59.51 0 1.02-.2 1.41-.59l7.78-7.78 2.81-2.81c.8-.78.8-2.07 0-2.86zM5.41 20L4 18.59l7.72-7.72 1.47 1.35L5.41 20z\"/>\n",
              "  </svg>\n",
              "      </button>\n",
              "      \n",
              "  <style>\n",
              "    .colab-df-container {\n",
              "      display:flex;\n",
              "      flex-wrap:wrap;\n",
              "      gap: 12px;\n",
              "    }\n",
              "\n",
              "    .colab-df-convert {\n",
              "      background-color: #E8F0FE;\n",
              "      border: none;\n",
              "      border-radius: 50%;\n",
              "      cursor: pointer;\n",
              "      display: none;\n",
              "      fill: #1967D2;\n",
              "      height: 32px;\n",
              "      padding: 0 0 0 0;\n",
              "      width: 32px;\n",
              "    }\n",
              "\n",
              "    .colab-df-convert:hover {\n",
              "      background-color: #E2EBFA;\n",
              "      box-shadow: 0px 1px 2px rgba(60, 64, 67, 0.3), 0px 1px 3px 1px rgba(60, 64, 67, 0.15);\n",
              "      fill: #174EA6;\n",
              "    }\n",
              "\n",
              "    [theme=dark] .colab-df-convert {\n",
              "      background-color: #3B4455;\n",
              "      fill: #D2E3FC;\n",
              "    }\n",
              "\n",
              "    [theme=dark] .colab-df-convert:hover {\n",
              "      background-color: #434B5C;\n",
              "      box-shadow: 0px 1px 3px 1px rgba(0, 0, 0, 0.15);\n",
              "      filter: drop-shadow(0px 1px 2px rgba(0, 0, 0, 0.3));\n",
              "      fill: #FFFFFF;\n",
              "    }\n",
              "  </style>\n",
              "\n",
              "      <script>\n",
              "        const buttonEl =\n",
              "          document.querySelector('#df-f7d786bb-9f8a-4fab-ac06-5f1ae5c34991 button.colab-df-convert');\n",
              "        buttonEl.style.display =\n",
              "          google.colab.kernel.accessAllowed ? 'block' : 'none';\n",
              "\n",
              "        async function convertToInteractive(key) {\n",
              "          const element = document.querySelector('#df-f7d786bb-9f8a-4fab-ac06-5f1ae5c34991');\n",
              "          const dataTable =\n",
              "            await google.colab.kernel.invokeFunction('convertToInteractive',\n",
              "                                                     [key], {});\n",
              "          if (!dataTable) return;\n",
              "\n",
              "          const docLinkHtml = 'Like what you see? Visit the ' +\n",
              "            '<a target=\"_blank\" href=https://colab.research.google.com/notebooks/data_table.ipynb>data table notebook</a>'\n",
              "            + ' to learn more about interactive tables.';\n",
              "          element.innerHTML = '';\n",
              "          dataTable['output_type'] = 'display_data';\n",
              "          await google.colab.output.renderOutput(dataTable, element);\n",
              "          const docLink = document.createElement('div');\n",
              "          docLink.innerHTML = docLinkHtml;\n",
              "          element.appendChild(docLink);\n",
              "        }\n",
              "      </script>\n",
              "    </div>\n",
              "  </div>\n",
              "  "
            ]
          },
          "metadata": {},
          "execution_count": 1
        }
      ]
    },
    {
      "cell_type": "markdown",
      "source": [
        "### Regression dengan KNN"
      ],
      "metadata": {
        "id": "hnivr1ZQ-PlQ"
      }
    },
    {
      "cell_type": "markdown",
      "source": [
        "#### Features & Target\n",
        "- Fungsi `np.array()` digunakan untuk mengelompokkan features dan target menggunakan."
      ],
      "metadata": {
        "id": "zj73fB6x-QRg"
      }
    },
    {
      "cell_type": "code",
      "source": [
        "import numpy as np\n",
        "\n",
        "X_train = np.array(sensus_df[['tinggi', 'jk']])\n",
        "y_train = np.array(sensus_df['berat'])\n",
        "\n",
        "print(f'X_train:\\n{X_train}\\n')\n",
        "print(f'y_train: {y_train}')"
      ],
      "metadata": {
        "colab": {
          "base_uri": "https://localhost:8080/"
        },
        "id": "Yg_8Brmu-b4N",
        "outputId": "da026b5a-8b9b-4272-fd59-50fe834b728e"
      },
      "execution_count": 2,
      "outputs": [
        {
          "output_type": "stream",
          "name": "stdout",
          "text": [
            "X_train:\n",
            "[[158 'pria']\n",
            " [170 'pria']\n",
            " [183 'pria']\n",
            " [191 'pria']\n",
            " [155 'wanita']\n",
            " [163 'wanita']\n",
            " [180 'wanita']\n",
            " [158 'wanita']\n",
            " [170 'wanita']]\n",
            "\n",
            "y_train: [64 86 84 80 49 59 67 54 67]\n"
          ]
        }
      ]
    },
    {
      "cell_type": "markdown",
      "source": [
        "#### Preprocess Dataset: Konversi Label menjadi Numerik Biner\n",
        "- Fungsi `np.transpose()` digunakan untuk melakukan konversi kolom menjadi baris.\n",
        "- Fungsi `fit_transform()`digunakan untuk melakukan konversi nilai string menjadi nilai biner menggunakan .\n",
        "- Fungsi `flatten()` digunakan untuk melakuakn konversi array 2 dimensi menjadi 1 dimensi menggunakan .\n",
        "- Fungsi `transpose()` digunakan untuk melakukan konversi baris menjadi kolom menggunakan ."
      ],
      "metadata": {
        "id": "0wMZbcJ9-dXF"
      }
    },
    {
      "cell_type": "code",
      "source": [
        "X_train_transposed = np.transpose(X_train)\n",
        "\n",
        "print(f'X_train:\\n{X_train}\\n')\n",
        "print(f'X_train_transposed:\\n{X_train_transposed}')"
      ],
      "metadata": {
        "colab": {
          "base_uri": "https://localhost:8080/"
        },
        "id": "PUgfHeCz-1UM",
        "outputId": "e9861eb0-15cb-4abe-f278-e82476755c08"
      },
      "execution_count": 3,
      "outputs": [
        {
          "output_type": "stream",
          "name": "stdout",
          "text": [
            "X_train:\n",
            "[[158 'pria']\n",
            " [170 'pria']\n",
            " [183 'pria']\n",
            " [191 'pria']\n",
            " [155 'wanita']\n",
            " [163 'wanita']\n",
            " [180 'wanita']\n",
            " [158 'wanita']\n",
            " [170 'wanita']]\n",
            "\n",
            "X_train_transposed:\n",
            "[[158 170 183 191 155 163 180 158 170]\n",
            " ['pria' 'pria' 'pria' 'pria' 'wanita' 'wanita' 'wanita' 'wanita'\n",
            "  'wanita']]\n"
          ]
        }
      ]
    },
    {
      "cell_type": "code",
      "source": [
        "from sklearn.preprocessing import LabelBinarizer\n",
        "\n",
        "lb = LabelBinarizer()\n",
        "jk_binarised = lb.fit_transform(X_train_transposed[1])\n",
        "\n",
        "print(f'jk: {X_train_transposed[1]}\\n')\n",
        "print(f'jk_binarised:\\n{jk_binarised}')"
      ],
      "metadata": {
        "colab": {
          "base_uri": "https://localhost:8080/"
        },
        "id": "6ZX-fIoQ-3JP",
        "outputId": "d8baebe0-f294-40d3-e9ff-29c685e9f113"
      },
      "execution_count": 4,
      "outputs": [
        {
          "output_type": "stream",
          "name": "stdout",
          "text": [
            "jk: ['pria' 'pria' 'pria' 'pria' 'wanita' 'wanita' 'wanita' 'wanita' 'wanita']\n",
            "\n",
            "jk_binarised:\n",
            "[[0]\n",
            " [0]\n",
            " [0]\n",
            " [0]\n",
            " [1]\n",
            " [1]\n",
            " [1]\n",
            " [1]\n",
            " [1]]\n"
          ]
        }
      ]
    },
    {
      "cell_type": "code",
      "source": [
        "jk_binarised = jk_binarised.flatten()\n",
        "jk_binarised"
      ],
      "metadata": {
        "colab": {
          "base_uri": "https://localhost:8080/"
        },
        "id": "DVVvRzZj-4w0",
        "outputId": "c4880bfd-50c6-4be4-c067-173dffabef80"
      },
      "execution_count": 5,
      "outputs": [
        {
          "output_type": "execute_result",
          "data": {
            "text/plain": [
              "array([0, 0, 0, 0, 1, 1, 1, 1, 1])"
            ]
          },
          "metadata": {},
          "execution_count": 5
        }
      ]
    },
    {
      "cell_type": "code",
      "source": [
        "X_train_transposed[1] = jk_binarised\n",
        "X_train = X_train_transposed.transpose()\n",
        "\n",
        "print(f'X_train_transposed:\\n{X_train_transposed}\\n')\n",
        "print(f'X_train:\\n{X_train}')"
      ],
      "metadata": {
        "colab": {
          "base_uri": "https://localhost:8080/"
        },
        "id": "Z4AASbjZ-6OL",
        "outputId": "baf4d198-227f-466c-fbb6-55d16c4e89d3"
      },
      "execution_count": 6,
      "outputs": [
        {
          "output_type": "stream",
          "name": "stdout",
          "text": [
            "X_train_transposed:\n",
            "[[158 170 183 191 155 163 180 158 170]\n",
            " [0 0 0 0 1 1 1 1 1]]\n",
            "\n",
            "X_train:\n",
            "[[158 0]\n",
            " [170 0]\n",
            " [183 0]\n",
            " [191 0]\n",
            " [155 1]\n",
            " [163 1]\n",
            " [180 1]\n",
            " [158 1]\n",
            " [170 1]]\n"
          ]
        }
      ]
    },
    {
      "cell_type": "markdown",
      "source": [
        "#### Training KNN Regression Model"
      ],
      "metadata": {
        "id": "WH7M1b59-7xR"
      }
    },
    {
      "cell_type": "markdown",
      "source": [
        "- Membuat KNN Classification Model dengan 3 neighbors.\n",
        "- Fungsi `fit()`digunakan untuk melakukan training model.\n",
        "    - Parameter pertama berisi nilai features.\n",
        "    - Parameter kedua berisi nilai target."
      ],
      "metadata": {
        "id": "f5haTv6G-87U"
      }
    },
    {
      "cell_type": "code",
      "source": [
        "from sklearn.neighbors import KNeighborsRegressor\n",
        "\n",
        "K = 3\n",
        "model = KNeighborsRegressor(n_neighbors=K)\n",
        "model.fit(X_train, y_train)"
      ],
      "metadata": {
        "colab": {
          "base_uri": "https://localhost:8080/",
          "height": 75
        },
        "id": "CPvX3vaV_FSv",
        "outputId": "b30b1d62-4123-4dfc-e0e4-26ef5be14974"
      },
      "execution_count": 7,
      "outputs": [
        {
          "output_type": "execute_result",
          "data": {
            "text/plain": [
              "KNeighborsRegressor(n_neighbors=3)"
            ],
            "text/html": [
              "<style>#sk-container-id-1 {color: black;background-color: white;}#sk-container-id-1 pre{padding: 0;}#sk-container-id-1 div.sk-toggleable {background-color: white;}#sk-container-id-1 label.sk-toggleable__label {cursor: pointer;display: block;width: 100%;margin-bottom: 0;padding: 0.3em;box-sizing: border-box;text-align: center;}#sk-container-id-1 label.sk-toggleable__label-arrow:before {content: \"▸\";float: left;margin-right: 0.25em;color: #696969;}#sk-container-id-1 label.sk-toggleable__label-arrow:hover:before {color: black;}#sk-container-id-1 div.sk-estimator:hover label.sk-toggleable__label-arrow:before {color: black;}#sk-container-id-1 div.sk-toggleable__content {max-height: 0;max-width: 0;overflow: hidden;text-align: left;background-color: #f0f8ff;}#sk-container-id-1 div.sk-toggleable__content pre {margin: 0.2em;color: black;border-radius: 0.25em;background-color: #f0f8ff;}#sk-container-id-1 input.sk-toggleable__control:checked~div.sk-toggleable__content {max-height: 200px;max-width: 100%;overflow: auto;}#sk-container-id-1 input.sk-toggleable__control:checked~label.sk-toggleable__label-arrow:before {content: \"▾\";}#sk-container-id-1 div.sk-estimator input.sk-toggleable__control:checked~label.sk-toggleable__label {background-color: #d4ebff;}#sk-container-id-1 div.sk-label input.sk-toggleable__control:checked~label.sk-toggleable__label {background-color: #d4ebff;}#sk-container-id-1 input.sk-hidden--visually {border: 0;clip: rect(1px 1px 1px 1px);clip: rect(1px, 1px, 1px, 1px);height: 1px;margin: -1px;overflow: hidden;padding: 0;position: absolute;width: 1px;}#sk-container-id-1 div.sk-estimator {font-family: monospace;background-color: #f0f8ff;border: 1px dotted black;border-radius: 0.25em;box-sizing: border-box;margin-bottom: 0.5em;}#sk-container-id-1 div.sk-estimator:hover {background-color: #d4ebff;}#sk-container-id-1 div.sk-parallel-item::after {content: \"\";width: 100%;border-bottom: 1px solid gray;flex-grow: 1;}#sk-container-id-1 div.sk-label:hover label.sk-toggleable__label {background-color: #d4ebff;}#sk-container-id-1 div.sk-serial::before {content: \"\";position: absolute;border-left: 1px solid gray;box-sizing: border-box;top: 0;bottom: 0;left: 50%;z-index: 0;}#sk-container-id-1 div.sk-serial {display: flex;flex-direction: column;align-items: center;background-color: white;padding-right: 0.2em;padding-left: 0.2em;position: relative;}#sk-container-id-1 div.sk-item {position: relative;z-index: 1;}#sk-container-id-1 div.sk-parallel {display: flex;align-items: stretch;justify-content: center;background-color: white;position: relative;}#sk-container-id-1 div.sk-item::before, #sk-container-id-1 div.sk-parallel-item::before {content: \"\";position: absolute;border-left: 1px solid gray;box-sizing: border-box;top: 0;bottom: 0;left: 50%;z-index: -1;}#sk-container-id-1 div.sk-parallel-item {display: flex;flex-direction: column;z-index: 1;position: relative;background-color: white;}#sk-container-id-1 div.sk-parallel-item:first-child::after {align-self: flex-end;width: 50%;}#sk-container-id-1 div.sk-parallel-item:last-child::after {align-self: flex-start;width: 50%;}#sk-container-id-1 div.sk-parallel-item:only-child::after {width: 0;}#sk-container-id-1 div.sk-dashed-wrapped {border: 1px dashed gray;margin: 0 0.4em 0.5em 0.4em;box-sizing: border-box;padding-bottom: 0.4em;background-color: white;}#sk-container-id-1 div.sk-label label {font-family: monospace;font-weight: bold;display: inline-block;line-height: 1.2em;}#sk-container-id-1 div.sk-label-container {text-align: center;}#sk-container-id-1 div.sk-container {/* jupyter's `normalize.less` sets `[hidden] { display: none; }` but bootstrap.min.css set `[hidden] { display: none !important; }` so we also need the `!important` here to be able to override the default hidden behavior on the sphinx rendered scikit-learn.org. See: https://github.com/scikit-learn/scikit-learn/issues/21755 */display: inline-block !important;position: relative;}#sk-container-id-1 div.sk-text-repr-fallback {display: none;}</style><div id=\"sk-container-id-1\" class=\"sk-top-container\"><div class=\"sk-text-repr-fallback\"><pre>KNeighborsRegressor(n_neighbors=3)</pre><b>In a Jupyter environment, please rerun this cell to show the HTML representation or trust the notebook. <br />On GitHub, the HTML representation is unable to render, please try loading this page with nbviewer.org.</b></div><div class=\"sk-container\" hidden><div class=\"sk-item\"><div class=\"sk-estimator sk-toggleable\"><input class=\"sk-toggleable__control sk-hidden--visually\" id=\"sk-estimator-id-1\" type=\"checkbox\" checked><label for=\"sk-estimator-id-1\" class=\"sk-toggleable__label sk-toggleable__label-arrow\">KNeighborsRegressor</label><div class=\"sk-toggleable__content\"><pre>KNeighborsRegressor(n_neighbors=3)</pre></div></div></div></div></div>"
            ]
          },
          "metadata": {},
          "execution_count": 7
        }
      ]
    },
    {
      "cell_type": "markdown",
      "source": [
        "#### Prediksi Berat Badan"
      ],
      "metadata": {
        "id": "6DI5Xo5x_Gzq"
      }
    },
    {
      "cell_type": "markdown",
      "source": [
        "- Melakukan nilai features menggunakan array\n",
        "    - Parameter 1 berisi tinggi badan.\n",
        "    - Parameter 2 berisi jenis kelamin.\n",
        "- Fungsi `model.predict()` digunakan untuk melakukan prediksi terhadap nilai features"
      ],
      "metadata": {
        "id": "RJcibLVN_Itf"
      }
    },
    {
      "cell_type": "code",
      "source": [
        "X_new = np.array([[155, 1]])\n",
        "X_new"
      ],
      "metadata": {
        "colab": {
          "base_uri": "https://localhost:8080/"
        },
        "id": "Cz6kpXf__TAQ",
        "outputId": "a644482f-3258-4e7f-9716-9c553047dc78"
      },
      "execution_count": 8,
      "outputs": [
        {
          "output_type": "execute_result",
          "data": {
            "text/plain": [
              "array([[155,   1]])"
            ]
          },
          "metadata": {},
          "execution_count": 8
        }
      ]
    },
    {
      "cell_type": "code",
      "source": [
        "y_pred = model.predict(X_new)\n",
        "y_pred"
      ],
      "metadata": {
        "colab": {
          "base_uri": "https://localhost:8080/"
        },
        "id": "RF1XXCXz_UJe",
        "outputId": "b76d60b7-5cee-49d0-aaa7-e2794b8a417b"
      },
      "execution_count": 9,
      "outputs": [
        {
          "output_type": "execute_result",
          "data": {
            "text/plain": [
              "array([55.66666667])"
            ]
          },
          "metadata": {},
          "execution_count": 9
        }
      ]
    },
    {
      "cell_type": "markdown",
      "source": [
        "#### Evaluasi KNN Regression Model"
      ],
      "metadata": {
        "id": "W9ta1jSc_XyY"
      }
    },
    {
      "cell_type": "markdown",
      "source": [
        "- Membuat testing set menggunakan array\n",
        "    - Array features berisi tinggi badan dan jenis kelamin.\n",
        "    - Array target berisi berat badan.\n",
        "-  Fungsi `model.predict()` digunakan untuk melakukan prediksi terhadap testing set."
      ],
      "metadata": {
        "id": "4gMRtKl1_ZIZ"
      }
    },
    {
      "cell_type": "code",
      "source": [
        "X_test = np.array([[168, 0], [180, 0], [160, 1], [169, 1]])\n",
        "y_test = np.array([65, 96, 52, 67])\n",
        "\n",
        "print(f'X_test:\\n{X_test}\\n')\n",
        "print(f'y_test: {y_test}')"
      ],
      "metadata": {
        "colab": {
          "base_uri": "https://localhost:8080/"
        },
        "id": "ziHCpWVM_f2j",
        "outputId": "489e3152-20fc-4db4-af22-cb6624535c79"
      },
      "execution_count": 10,
      "outputs": [
        {
          "output_type": "stream",
          "name": "stdout",
          "text": [
            "X_test:\n",
            "[[168   0]\n",
            " [180   0]\n",
            " [160   1]\n",
            " [169   1]]\n",
            "\n",
            "y_test: [65 96 52 67]\n"
          ]
        }
      ]
    },
    {
      "cell_type": "code",
      "source": [
        "y_pred = model.predict(X_test)\n",
        "y_pred"
      ],
      "metadata": {
        "colab": {
          "base_uri": "https://localhost:8080/"
        },
        "id": "X7Fe6qFb_hc1",
        "outputId": "3c63c3ea-f14f-4ba4-df82-67a6fbc562d5"
      },
      "execution_count": 11,
      "outputs": [
        {
          "output_type": "execute_result",
          "data": {
            "text/plain": [
              "array([70.66666667, 79.        , 59.        , 70.66666667])"
            ]
          },
          "metadata": {},
          "execution_count": 11
        }
      ]
    },
    {
      "cell_type": "markdown",
      "source": [
        "##### Coefficient of Determination atau $R^2$\n",
        "\n",
        "Referensi: https://en.wikipedia.org/wiki/Coefficient_of_determination"
      ],
      "metadata": {
        "id": "VqUtt9Sm_i4I"
      }
    },
    {
      "cell_type": "markdown",
      "source": [
        "- Jika nilai $R^2$ semakin mendekati 1 berarti model yang dihasilkan semakin baik dan begitu pula sebaliknya.\n",
        "- Caranya dengan menggunakan fungsi `r2_score()`."
      ],
      "metadata": {
        "id": "DmiEGpeB_kQ3"
      }
    },
    {
      "cell_type": "code",
      "source": [
        "from sklearn.metrics import r2_score\n",
        "\n",
        "r_squared = r2_score(y_test, y_pred)\n",
        "\n",
        "print(f'R-squared: {r_squared}')"
      ],
      "metadata": {
        "colab": {
          "base_uri": "https://localhost:8080/"
        },
        "id": "Lsh9GvUQ_lW9",
        "outputId": "c5fa2888-5ba5-436c-b063-721375ed317a"
      },
      "execution_count": 12,
      "outputs": [
        {
          "output_type": "stream",
          "name": "stdout",
          "text": [
            "R-squared: 0.6290565226735438\n"
          ]
        }
      ]
    },
    {
      "cell_type": "markdown",
      "source": [
        "##### Mean Absolute Error (MAE) atau Mean Absolute Deviation (MAD)"
      ],
      "metadata": {
        "id": "m8Hx2YE4_mk5"
      }
    },
    {
      "cell_type": "markdown",
      "source": [
        "$MAE$ is the average of the absolute values of the errors of the predictions.\n",
        "\n",
        "$MAE = \\frac{1}{n} \\sum_{i=1}^{n} |y_i - \\hat{y}_i|$\n",
        "\n",
        "Referensi: https://en.wikipedia.org/wiki/Mean_absolute_error"
      ],
      "metadata": {
        "id": "dwsdodnD_nlg"
      }
    },
    {
      "cell_type": "markdown",
      "source": [
        "- Jika nilai MAE semakin kecil, berarti semakin baik pula model yang dimuat oleh prediksi. Begitu juga sebaliknya."
      ],
      "metadata": {
        "id": "IJiRw2r1_o4H"
      }
    },
    {
      "cell_type": "code",
      "source": [
        "from sklearn.metrics import mean_absolute_error\n",
        "\n",
        "MAE = mean_absolute_error(y_test, y_pred)\n",
        "\n",
        "print(f'MAE: {MAE}')"
      ],
      "metadata": {
        "colab": {
          "base_uri": "https://localhost:8080/"
        },
        "id": "wxz8MjmG_qCX",
        "outputId": "dd9669c8-3165-4930-9fb5-6fea28528cb6"
      },
      "execution_count": 13,
      "outputs": [
        {
          "output_type": "stream",
          "name": "stdout",
          "text": [
            "MAE: 8.333333333333336\n"
          ]
        }
      ]
    },
    {
      "cell_type": "markdown",
      "source": [
        "##### Mean Squared Error (MSE) atau Mean Squared Deviation (MSD)"
      ],
      "metadata": {
        "id": "NPxcYNBH_sMA"
      }
    },
    {
      "cell_type": "markdown",
      "source": [
        "$MSE$ is the average of the squares of the errors of the predictions.\n",
        "\n",
        "$MSE = \\frac{1}{n} \\sum_{i=1}^{n} (y_i - \\hat{y}_i)^2$\n",
        "\n",
        "Referensi: https://en.wikipedia.org/wiki/Mean_squared_error"
      ],
      "metadata": {
        "id": "Itn_t0Qu_tNz"
      }
    },
    {
      "cell_type": "markdown",
      "source": [
        "- Sama seperti MAE, semakin kecil MSE semain baik pula model hasil prediksi. Begitu juga sebaliknya."
      ],
      "metadata": {
        "id": "CT5Y4-D0_u49"
      }
    },
    {
      "cell_type": "code",
      "source": [
        "from sklearn.metrics import mean_squared_error\n",
        "\n",
        "MSE = mean_squared_error(y_test, y_pred)\n",
        "\n",
        "print(f'MSE: {MSE}')"
      ],
      "metadata": {
        "colab": {
          "base_uri": "https://localhost:8080/"
        },
        "id": "Qw5p7aHD_v7h",
        "outputId": "89f5e95c-bd68-42f9-d172-b0931b9dd7c6"
      },
      "execution_count": 14,
      "outputs": [
        {
          "output_type": "stream",
          "name": "stdout",
          "text": [
            "MSE: 95.8888888888889\n"
          ]
        }
      ]
    },
    {
      "cell_type": "markdown",
      "source": [
        "#### Permasalahan Scaling pada Features"
      ],
      "metadata": {
        "id": "2LbS3rBX_w9F"
      }
    },
    {
      "cell_type": "markdown",
      "source": [
        "- Umumnya terjadi karena perbedaan satuan, seperti contoh dibawah."
      ],
      "metadata": {
        "id": "hPF2aE7w_yFh"
      }
    },
    {
      "cell_type": "code",
      "source": [
        "from scipy.spatial.distance import euclidean\n",
        "\n",
        "# tinggi dalam milimeter\n",
        "X_train = np.array([[1700, 0], [1600, 1]])\n",
        "X_new = np.array([[1640, 0]])\n",
        "\n",
        "[euclidean(X_new[0], d) for d in X_train]"
      ],
      "metadata": {
        "colab": {
          "base_uri": "https://localhost:8080/"
        },
        "id": "F8qozuev_zCS",
        "outputId": "f7af95d0-aa15-4587-be1d-d20b5199bfff"
      },
      "execution_count": 15,
      "outputs": [
        {
          "output_type": "execute_result",
          "data": {
            "text/plain": [
              "[60.0, 40.01249804748511]"
            ]
          },
          "metadata": {},
          "execution_count": 15
        }
      ]
    },
    {
      "cell_type": "code",
      "source": [
        "# tinggi dalam meter\n",
        "X_train = np.array([[1.7, 0], [1.6, 1]])\n",
        "X_new = np.array([[1.64, 0]])\n",
        "\n",
        "[euclidean(X_new[0], d) for d in X_train]"
      ],
      "metadata": {
        "colab": {
          "base_uri": "https://localhost:8080/"
        },
        "id": "pMHhPqSg_0Ly",
        "outputId": "0087e5b9-aa5d-4ba9-f10d-f0b3a8cabf7f"
      },
      "execution_count": 16,
      "outputs": [
        {
          "output_type": "execute_result",
          "data": {
            "text/plain": [
              "[0.06000000000000005, 1.0007996802557442]"
            ]
          },
          "metadata": {},
          "execution_count": 16
        }
      ]
    },
    {
      "cell_type": "markdown",
      "source": [
        "#### Menerapkan Standard Scaler (Standard Score atau Z-Score)"
      ],
      "metadata": {
        "id": "Oh7m0lxa_125"
      }
    },
    {
      "cell_type": "markdown",
      "source": [
        "Standardize features by removing the mean and scaling to unit variance.\n",
        "\n",
        "\n",
        "$z = \\frac{x - \\bar{x}}{S}$\n",
        "\n",
        "\n",
        "Referensi: https://en.wikipedia.org/wiki/Standard_score"
      ],
      "metadata": {
        "id": "yTVQyhN-_3Fs"
      }
    },
    {
      "cell_type": "markdown",
      "source": [
        "- Dengan menggunakan Z-Score, kita dapat dengan aman menerapkan satuan yang berbeda."
      ],
      "metadata": {
        "id": "YcNs76cA_4ot"
      }
    },
    {
      "cell_type": "code",
      "source": [
        "from sklearn.preprocessing import StandardScaler\n",
        "\n",
        "ss = StandardScaler()"
      ],
      "metadata": {
        "id": "Pw1GMR0E_-3N"
      },
      "execution_count": 17,
      "outputs": []
    },
    {
      "cell_type": "code",
      "source": [
        "# tinggi dalam milimeter\n",
        "X_train = np.array([[1700, 0], [1600, 1]])\n",
        "X_train_scaled = ss.fit_transform(X_train)\n",
        "print(f'X_train_scaled:\\n{X_train_scaled}\\n')\n",
        "\n",
        "X_new = np.array([[1640, 0]])\n",
        "X_new_scaled = ss.transform(X_new)\n",
        "print(f'X_new_scaled: {X_new_scaled}\\n')\n",
        "\n",
        "jarak = [euclidean(X_new_scaled[0], d) for d in X_train_scaled]\n",
        "print(f'jarak: {jarak}')"
      ],
      "metadata": {
        "colab": {
          "base_uri": "https://localhost:8080/"
        },
        "id": "LZlMby0v__z6",
        "outputId": "599b3557-2a2d-4e22-f2c6-b1417b2769da"
      },
      "execution_count": 18,
      "outputs": [
        {
          "output_type": "stream",
          "name": "stdout",
          "text": [
            "X_train_scaled:\n",
            "[[ 1. -1.]\n",
            " [-1.  1.]]\n",
            "\n",
            "X_new_scaled: [[-0.2 -1. ]]\n",
            "\n",
            "jarak: [1.2, 2.1540659228538015]\n"
          ]
        }
      ]
    },
    {
      "cell_type": "code",
      "source": [
        "# tinggi dalam meter\n",
        "X_train = np.array([[1.7, 0], [1.6, 1]])\n",
        "X_train_scaled = ss.fit_transform(X_train)\n",
        "print(f'X_train_scaled:\\n{X_train_scaled}\\n')\n",
        "\n",
        "X_new = np.array([[1.64, 0]])\n",
        "X_new_scaled = ss.transform(X_new)\n",
        "print(f'X_new_scaled: {X_new_scaled}\\n')\n",
        "\n",
        "jarak = [euclidean(X_new_scaled[0], d) for d in X_train_scaled]\n",
        "print(f'jarak: {jarak}')"
      ],
      "metadata": {
        "colab": {
          "base_uri": "https://localhost:8080/"
        },
        "id": "K35GvkYbAAym",
        "outputId": "99e76e4e-0bac-4a0c-d796-31432fd80a72"
      },
      "execution_count": 19,
      "outputs": [
        {
          "output_type": "stream",
          "name": "stdout",
          "text": [
            "X_train_scaled:\n",
            "[[ 1. -1.]\n",
            " [-1.  1.]]\n",
            "\n",
            "X_new_scaled: [[-0.2 -1. ]]\n",
            "\n",
            "jarak: [1.2000000000000026, 2.1540659228538006]\n"
          ]
        }
      ]
    },
    {
      "cell_type": "markdown",
      "source": [
        "#### Menerapkan Features Scaling pada KNN\n",
        "##### Dataset"
      ],
      "metadata": {
        "id": "e5Qu9KSxACCv"
      }
    },
    {
      "cell_type": "code",
      "source": [
        "# Training Set\n",
        "X_train = np.array([[158, 0], [170, 0], [183, 0], [191, 0], [155, 1], [163, 1],\n",
        "                    [180, 1], [158, 1], [170, 1]])\n",
        "\n",
        "y_train = np.array([64, 86, 84, 80, 49, 59, 67, 54, 67])\n",
        "\n",
        "# Test Set\n",
        "X_test = np.array([[168, 0], [180, 0], [160, 1], [169, 1]])\n",
        "y_test = np.array([65, 96, 52, 67])"
      ],
      "metadata": {
        "id": "vfpILwNgAEJj"
      },
      "execution_count": 20,
      "outputs": []
    },
    {
      "cell_type": "markdown",
      "source": [
        "##### Features Scaling (Standard Scaler)"
      ],
      "metadata": {
        "id": "Nrssc6FbAHEw"
      }
    },
    {
      "cell_type": "code",
      "source": [
        "X_train_scaled = ss.fit_transform(X_train)\n",
        "X_test_scaled = ss.transform(X_test)\n",
        "\n",
        "print(f'X_train_scaled:\\n{X_train_scaled}\\n')\n",
        "print(f'X_test_scaled:\\n{X_test_scaled}\\n')"
      ],
      "metadata": {
        "colab": {
          "base_uri": "https://localhost:8080/"
        },
        "id": "NOf0H1gvAEOD",
        "outputId": "5b907fb5-0182-440c-d11f-96138a1d5c76"
      },
      "execution_count": 21,
      "outputs": [
        {
          "output_type": "stream",
          "name": "stdout",
          "text": [
            "X_train_scaled:\n",
            "[[-0.9908706  -1.11803399]\n",
            " [ 0.01869567 -1.11803399]\n",
            " [ 1.11239246 -1.11803399]\n",
            " [ 1.78543664 -1.11803399]\n",
            " [-1.24326216  0.89442719]\n",
            " [-0.57021798  0.89442719]\n",
            " [ 0.86000089  0.89442719]\n",
            " [-0.9908706   0.89442719]\n",
            " [ 0.01869567  0.89442719]]\n",
            "\n",
            "X_test_scaled:\n",
            "[[-0.14956537 -1.11803399]\n",
            " [ 0.86000089 -1.11803399]\n",
            " [-0.82260955  0.89442719]\n",
            " [-0.06543485  0.89442719]]\n",
            "\n"
          ]
        }
      ]
    },
    {
      "cell_type": "markdown",
      "source": [
        "##### Training & Evaluasi Model"
      ],
      "metadata": {
        "id": "aE8aSAZ-AMaH"
      }
    },
    {
      "cell_type": "code",
      "source": [
        "model.fit(X_train_scaled, y_train)\n",
        "y_pred = model.predict(X_test_scaled)\n",
        "\n",
        "MAE = mean_absolute_error(y_test, y_pred)\n",
        "MSE = mean_squared_error(y_test, y_pred)\n",
        "\n",
        "print(f'MAE: {MAE}')\n",
        "print(f'MSE: {MSE}')"
      ],
      "metadata": {
        "colab": {
          "base_uri": "https://localhost:8080/"
        },
        "id": "pEznbc-jANgQ",
        "outputId": "5578b42e-dd69-4d65-c07a-3959711c333a"
      },
      "execution_count": 22,
      "outputs": [
        {
          "output_type": "stream",
          "name": "stdout",
          "text": [
            "MAE: 7.583333333333336\n",
            "MSE: 85.13888888888893\n"
          ]
        }
      ]
    }
  ]
}