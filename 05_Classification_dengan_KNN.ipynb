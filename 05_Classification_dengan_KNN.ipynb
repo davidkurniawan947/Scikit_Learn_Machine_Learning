{
  "nbformat": 4,
  "nbformat_minor": 0,
  "metadata": {
    "colab": {
      "provenance": []
    },
    "kernelspec": {
      "name": "python3",
      "display_name": "Python 3"
    },
    "language_info": {
      "name": "python"
    }
  },
  "cells": [
    {
      "cell_type": "markdown",
      "source": [
        "# 06 Classification dengan KNN | K-Nearest Neighbours\n",
        "Source : [Indonesia Belajar](https://youtu.be/4zARMcgc7hA)\n",
        "- K-Nearest Neighbours atau KNN adalah model machine learning yang dapat digunakan untuk melakukan prediksi berdasarkan kedekatan karakteristik dengan sejumlah tetangga terdekat.\n",
        "- Prediksi yang dilakukan dapat diterapkan baik pada classification maupun regression tasks.\n",
        "Referensi: https://en.wikipedia.org/wiki/K-nearest_neighbors_algorithm"
      ],
      "metadata": {
        "id": "c_oeJo-Q0qR1"
      }
    },
    {
      "cell_type": "markdown",
      "source": [
        "### Sample Dataset\n",
        "- Dataset dibuat menggunakan dictionary dimana tinggi dan berat akan menjadi features dan jenis kelamin/ jk akan menjadi target."
      ],
      "metadata": {
        "id": "sGKLNNom04d7"
      }
    },
    {
      "cell_type": "code",
      "source": [
        "import pandas as pd\n",
        "\n",
        "sensus = {\n",
        "    'tinggi': [158, 170, 183, 191, 155, 163, 180, 158, 178],\n",
        "    'berat': [64, 86, 84, 80, 49, 59, 67, 54, 67],\n",
        "    'jk': [\n",
        "        'pria', 'pria', 'pria', 'pria', 'wanita', 'wanita', 'wanita', 'wanita',\n",
        "        'wanita'\n",
        "    ]\n",
        "}\n",
        "\n",
        "sensus_df = pd.DataFrame(sensus)\n",
        "sensus_df"
      ],
      "metadata": {
        "id": "FchR6G2L0_yK"
      },
      "execution_count": null,
      "outputs": []
    },
    {
      "cell_type": "markdown",
      "source": [
        "### Visualisasi Data\n",
        "- Menggunakan subplots untuk menghasilkan visualisasi data, kemudian sensus_df dilooping dengan mengelompokkan jk dan menghasilkan 2 buah keluaran\n",
        "- Fungsi scatter() disini menggunakan 2 parameter, Parameter pertama merupakan sumbu x dan Parameter kedua merupakan sumbu Y."
      ],
      "metadata": {
        "id": "zGo2ZWQM1CY_"
      }
    },
    {
      "cell_type": "code",
      "source": [
        "import matplotlib.pyplot as plt\n",
        "\n",
        "fig, ax = plt.subplots()\n",
        "for jk, d in sensus_df.groupby('jk'):\n",
        "    ax.scatter(d['tinggi'], d['berat'], label=jk)\n",
        "\n",
        "plt.legend(loc='upper left')\n",
        "plt.title('Sebaran Data Tinggi Badan, Berat Badan, dan Jenis Kelamin')\n",
        "plt.xlabel('Tinggi Badan (cm)')\n",
        "plt.ylabel('Berat Badan (kg)')\n",
        "plt.grid(True)\n",
        "plt.show()\n"
      ],
      "metadata": {
        "id": "C7vgqfcO1Ucq"
      },
      "execution_count": null,
      "outputs": []
    },
    {
      "cell_type": "markdown",
      "source": [
        "## Classification dengan KNN\n",
        "### Preprocessing Dataset\n",
        "- Fungsi np.array() digunakan untuk mengelompokkan features dan target dari sensus_df menjadi training set.\n",
        "- Fungsi LabelBinarizer().fit_transform() digunakan untuk mengubah nilai string menjadi nilai biner.\n",
        "- Setelah nilai Y diubah menjadi binner kemudian diubah menjadi array 1 dimensi menggunakan fungsi flatten()."
      ],
      "metadata": {
        "id": "f7D1n1gv1WUU"
      }
    },
    {
      "cell_type": "code",
      "source": [
        "import numpy as np\n",
        "\n",
        "X_train = np.array(sensus_df[['tinggi', 'berat']])\n",
        "y_train = np.array(sensus_df['jk'])\n",
        "\n",
        "print(f'X_train:\\n{X_train}\\n')\n",
        "print(f'y_train: {y_train}')"
      ],
      "metadata": {
        "id": "0lU5lAr31g1c"
      },
      "execution_count": null,
      "outputs": []
    },
    {
      "cell_type": "code",
      "source": [
        "from sklearn.preprocessing import LabelBinarizer\n",
        "\n",
        "lb = LabelBinarizer()\n",
        "y_train = lb.fit_transform(y_train)\n",
        "print(f'y_train:\\n{y_train}')"
      ],
      "metadata": {
        "id": "3ndgKE7F1iba"
      },
      "execution_count": null,
      "outputs": []
    },
    {
      "cell_type": "code",
      "source": [
        "y_train = y_train.flatten()\n",
        "print(f'y_train: {y_train}')"
      ],
      "metadata": {
        "id": "TiACt2mK1j7H"
      },
      "execution_count": null,
      "outputs": []
    },
    {
      "cell_type": "markdown",
      "source": [
        "### Training KNN Classification Model\n",
        "- Membuat object KNN dengan nilai neighborsnya 3 dan ditraining menggunakan fungsi fit(). \n",
        "  - Parameter pertama berisi nilai features.\n",
        "  - Parameter kedua berisi nilai target."
      ],
      "metadata": {
        "id": "xj5D9hB-1lZu"
      }
    },
    {
      "cell_type": "code",
      "source": [
        "from sklearn.neighbors import KNeighborsClassifier\n",
        "\n",
        "K = 3\n",
        "model = KNeighborsClassifier(n_neighbors=K)\n",
        "model.fit(X_train, y_train)"
      ],
      "metadata": {
        "id": "CwRvuiMY1x6T"
      },
      "execution_count": null,
      "outputs": []
    },
    {
      "cell_type": "markdown",
      "source": [
        "### Prediksi Jenis Kelamin\n",
        "- Dengan membuat array 2 dimensi menggunakan fungsi reshape() yang berisi nilai tinggi badan dan berat badan beserta nilai prediksi target dari nilai features kemudian mengembalikan nilai yang sebelumnya telah diubah menjadi biner menjadu string kembali menggunakan fungsi inverse_transform()."
      ],
      "metadata": {
        "id": "hIhrBhru1zjc"
      }
    },
    {
      "cell_type": "code",
      "source": [
        "tinggi_badan = 155\n",
        "berat_badan = 70\n",
        "X_new = np.array([tinggi_badan, berat_badan]).reshape(1, -1)\n",
        "X_new"
      ],
      "metadata": {
        "id": "RsUadgyb19EO"
      },
      "execution_count": null,
      "outputs": []
    },
    {
      "cell_type": "code",
      "source": [
        "y_new = model.predict(X_new)\n",
        "y_new"
      ],
      "metadata": {
        "id": "S3DdfzQL1-LW"
      },
      "execution_count": null,
      "outputs": []
    },
    {
      "cell_type": "code",
      "source": [
        "lb.inverse_transform(y_new)"
      ],
      "metadata": {
        "id": "TDvYrbFV1_E6"
      },
      "execution_count": null,
      "outputs": []
    },
    {
      "cell_type": "markdown",
      "source": [
        "### Visualisasi Nearest Neighbours\n",
        "- Dengan subplots untuk menghasilkan visualisasi data, kemudian sensus_df dilooping dengan mengelompokkan jk dan menghasilkan 2 buah keluaran menggunakan Fungsi scatter() memerlukan minimal 2 buah parameter.\n",
        "- Membuat scatter plot dimana sumbu x akan diisi oleh tinggi badan dan sumbu y akan diisi oleh berat badan.\n",
        "- Dari hasil plotting terlihat bahwa misterius berada dekat dengan 1 pria dan 2 wanita, sehingga bisa dprediksi msiterius adalah wanita."
      ],
      "metadata": {
        "id": "IeaYZUwU2Byi"
      }
    },
    {
      "cell_type": "code",
      "source": [
        "fig, ax = plt.subplots()\n",
        "for jk, d in sensus_df.groupby('jk'):\n",
        "    ax.scatter(d['tinggi'], d['berat'], label=jk)\n",
        "\n",
        "plt.scatter(tinggi_badan,\n",
        "            berat_badan,\n",
        "            marker='s',\n",
        "            color='red',\n",
        "            label='misterius')\n",
        "\n",
        "plt.legend(loc='upper left')\n",
        "plt.title('Sebaran Data Tinggi Badan, Berat Badan, dan Jenis Kelamin')\n",
        "plt.xlabel('Tinggi Badan (cm)')\n",
        "plt.ylabel('Berat Badan (kg)')\n",
        "plt.grid(True)\n",
        "plt.show()"
      ],
      "metadata": {
        "id": "8akDdlih2Rqy"
      },
      "execution_count": null,
      "outputs": []
    },
    {
      "cell_type": "markdown",
      "source": [
        "### Kalkulasi Distance (Euclidean Distance)\n",
        "$distance = \\sqrt{ (t_1 - t_2)^2 + (b_1 - b_2)^2 }$\n",
        "\n",
        "Referensi: https://en.wikipedia.org/wiki/Euclidean_distance\n",
        "\n",
        "- Membuat array dari tinggi dan berat badan\n",
        "- Menghitung jarak nilai misterius dan setiap nilai x_train.\n",
        "- Membuat kolom 'jarak' pada dataframe sensus yang berisi data jarak yang telah dihitung sebelumnnya\n",
        "- Kemudian, mengurutkan nilai sensus dari nilai jarak yang paling kecil menuju terbesar."
      ],
      "metadata": {
        "id": "rAL0gdXR2YbK"
      }
    },
    {
      "cell_type": "code",
      "source": [
        "misterius = np.array([tinggi_badan, berat_badan])\n",
        "misterius"
      ],
      "metadata": {
        "id": "KFFMYyeg2vdH"
      },
      "execution_count": null,
      "outputs": []
    },
    {
      "cell_type": "code",
      "source": [
        "X_train"
      ],
      "metadata": {
        "id": "h7zpy4Ci2wVK"
      },
      "execution_count": null,
      "outputs": []
    },
    {
      "cell_type": "code",
      "source": [
        "from scipy.spatial.distance import euclidean\n",
        "\n",
        "data_jarak = [euclidean(misterius, d) for d in X_train]\n",
        "data_jarak"
      ],
      "metadata": {
        "id": "tO4FZCf-2x9Q"
      },
      "execution_count": null,
      "outputs": []
    },
    {
      "cell_type": "code",
      "source": [
        "sensus_df['jarak'] = data_jarak\n",
        "sensus_df.sort_values(['jarak'])\n"
      ],
      "metadata": {
        "id": "KIlFv5wE2zjP"
      },
      "execution_count": null,
      "outputs": []
    },
    {
      "cell_type": "markdown",
      "source": [
        "### Evaluasi KNN Classification Model\n",
        "**Testing Set**\n",
        "- Membuat array dari sekumpulan nilai target tinggi dan berat badan.\n",
        "- Membuat array dari nilai target yaitu jenis kelamin yang kemudian di ubah menjadi nilai biner dan diubah menjadi array 1 dimensi."
      ],
      "metadata": {
        "id": "sO7AepHu21jX"
      }
    },
    {
      "cell_type": "code",
      "source": [
        "X_test = np.array([[168, 65], [180, 96], [160, 52], [169, 67]])\n",
        "y_test = lb.transform(np.array(['pria', 'pria', 'wanita', 'wanita'])).flatten()\n",
        "\n",
        "print(f'X_test:\\n{X_test}\\n')\n",
        "print(f'y_test:\\n{y_test}')"
      ],
      "metadata": {
        "id": "7UIwmcmG29Uj"
      },
      "execution_count": null,
      "outputs": []
    },
    {
      "cell_type": "markdown",
      "source": [
        "Prediksi terhadap testing set\n",
        "- Melakukan prediksi nilai target dari nilai features."
      ],
      "metadata": {
        "id": "5isCeRuF2-10"
      }
    },
    {
      "cell_type": "code",
      "source": [
        "y_pred = model.predict(X_test)\n",
        "y_pred"
      ],
      "metadata": {
        "id": "1TMibztw3AtU"
      },
      "execution_count": null,
      "outputs": []
    },
    {
      "cell_type": "markdown",
      "source": [
        "Accuracy\n",
        "Accuracy is the proportion of test instances that were classified correctly.\n",
        "\n",
        "$accuracy = \\frac{tp\\ +\\ tn}{tp\\ +\\ tn\\ +\\ fp\\ +\\ fn}$\n",
        " \n",
        "\n",
        "- $tp$ = true positive, nilai target yang diprediksi sesuai dengan nilainya/ positive.\n",
        "- $tn$ = true negative, nilai target yang diprediksi sesuai dengan nilainya/ negative.\n",
        "- $fp$ = false positive, nilai target yang diprediksi tidak sesuai dengan nilainya/ positive.\n",
        "- $fn$ = false negative, nilai target yang diprediksi tidak sesuai dengan nilainya/ negative.\n",
        "\n",
        "Referensi: https://en.wikipedia.org/wiki/Precision_and_recall"
      ],
      "metadata": {
        "id": "6Cl7iJgP3ED2"
      }
    },
    {
      "cell_type": "code",
      "source": [
        "from sklearn.metrics import accuracy_score\n",
        "\n",
        "acc = accuracy_score(y_test, y_pred)\n",
        "\n",
        "print(f'Accuracy: {acc}')"
      ],
      "metadata": {
        "id": "3xcmApCy3HmL"
      },
      "execution_count": null,
      "outputs": []
    },
    {
      "cell_type": "markdown",
      "source": [
        "#### Precission \n",
        "Precision is the proportion of test instances that were predicted to be positive that are truly positive. \n",
        "\n",
        "$precission = \\frac{tp}{tp\\ +\\ fp}$\n",
        "\n",
        "Referensi: https://en.wikipedia.org/wiki/Precision_and_recall"
      ],
      "metadata": {
        "id": "Eef8G4w14iaG"
      }
    },
    {
      "cell_type": "code",
      "source": [
        "from sklearn.metrics import precision_score\n",
        "\n",
        "prec = precision_score(y_test, y_pred)\n",
        "\n",
        "print(f'Precission: {prec}')"
      ],
      "metadata": {
        "id": "XCEc1p2V4pph"
      },
      "execution_count": null,
      "outputs": []
    },
    {
      "cell_type": "markdown",
      "source": [
        "####Recall\n",
        "Recall is the proportion of truly positive test instances that were predicted to be positive.\n",
        "\n",
        "$recall = \\frac{tp}{tp\\ + \\ fn}$\n",
        "\n",
        "Referensi: https://en.wikipedia.org/wiki/Precision_and_recall"
      ],
      "metadata": {
        "id": "5fXfgVmT4tRy"
      }
    },
    {
      "cell_type": "code",
      "source": [
        "from sklearn.metrics import recall_score\n",
        "\n",
        "rec = recall_score(y_test, y_pred)\n",
        "\n",
        "print(f'Recall: {rec}')"
      ],
      "metadata": {
        "id": "8Iz3_k2K4wlt"
      },
      "execution_count": null,
      "outputs": []
    },
    {
      "cell_type": "markdown",
      "source": [
        "####F1 Score\n",
        "The F1 score is the harmonic mean of precision and recall.\n",
        "\n",
        "$F1 = 2 \\times \\frac{precission\\ \\times \\ recall}{precission\\ + \\ recall}$\n",
        "\n",
        "Referensi: https://en.wikipedia.org/wiki/Precision_and_recall"
      ],
      "metadata": {
        "id": "67lyc4Eb4zuC"
      }
    },
    {
      "cell_type": "code",
      "source": [
        "from sklearn.metrics import f1_score\n",
        "\n",
        "f1 = f1_score(y_test, y_pred)\n",
        "\n",
        "print(f'F1-score: {f1}')"
      ],
      "metadata": {
        "id": "R3jTrI6l4zWj"
      },
      "execution_count": null,
      "outputs": []
    },
    {
      "cell_type": "markdown",
      "source": [
        "### Classification Report"
      ],
      "metadata": {
        "id": "hyBewQ_m465d"
      }
    },
    {
      "cell_type": "markdown",
      "source": [
        "- Keempat matrix diatas dapat ditampilkan menggunakan fungsi `classification_report()`.\n",
        "- Report yang dihasilkan dari keseluruhan kelas. Dimana pria bernilai 0 dan wanita bernilai 1.\n",
        "- Nilai accuracy tidak bergantung kepada kelas. \n",
        "- Report ini bertujuan untuk binary classifier, yang berarti tidak bergantung pada kelas sehingga tetap diartikan menjadi 2 kelompok nilai 0 dan 1."
      ],
      "metadata": {
        "id": "7Cvbve0S4-WK"
      }
    },
    {
      "cell_type": "code",
      "source": [
        "from sklearn.metrics import classification_report\n",
        "\n",
        "cls_report = classification_report(y_test, y_pred)\n",
        "\n",
        "print(f'Classification Report:\\n{cls_report}')"
      ],
      "metadata": {
        "id": "pocQLcrC5A-S"
      },
      "execution_count": null,
      "outputs": []
    },
    {
      "cell_type": "markdown",
      "source": [
        "### Matthews Correlation Coefficient (MCC)"
      ],
      "metadata": {
        "id": "a95QEbjE5D1w"
      }
    },
    {
      "cell_type": "markdown",
      "source": [
        "- MCC is an alternative to the F1 score for measuring the performance of binary classifiers. \n",
        "- A perfect classifier's MCC is 1. \n",
        "- A trivial classifier that predicts randomly will score 0, and a perfectly wrong classifier will score -1.\n",
        "\n",
        "$MCC = \\frac{tp\\ \\times\\ tn\\ + fp\\ \\times\\ fn}{ \\sqrt{ (tp\\ +\\ fp)\\ \\times\\ (tp\\ +\\ fn)\\ \\times\\ (tn\\ +\\ fp)\\ \\times\\ (tn\\ +\\ fn)  }  }$\n",
        "\n",
        "Referensi: https://en.wikipedia.org/wiki/Matthews_correlation_coefficient"
      ],
      "metadata": {
        "id": "Zep3qjrZ5GVM"
      }
    },
    {
      "cell_type": "code",
      "source": [
        "from sklearn.metrics import matthews_corrcoef\n",
        "\n",
        "mcc = matthews_corrcoef(y_test, y_pred)\n",
        "\n",
        "print(f'MCC: {mcc}')"
      ],
      "metadata": {
        "id": "2NRI5RSZ5HmQ"
      },
      "execution_count": null,
      "outputs": []
    }
  ]
}