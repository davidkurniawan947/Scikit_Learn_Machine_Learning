{
 "cells": [
  {
   "cell_type": "markdown",
   "metadata": {
    "id": "lHz0GXaM9fNm"
   },
   "source": [
    "# Naive Bayes Classification\n",
    "#### Source : [Indonesia Belajar](https://youtu.be/Sj1ybuDDf9I)"
   ]
  },
  {
   "cell_type": "markdown",
   "metadata": {
    "id": "j2FB9PKT9mJK"
   },
   "source": [
    "Referensi: https://en.wikipedia.org/wiki/Naive_Bayes_classifier"
   ]
  },
  {
   "cell_type": "markdown",
   "metadata": {
    "id": "kT8PcM4Z9nk5"
   },
   "source": [
    "### Bayes' Theorem"
   ]
  },
  {
   "cell_type": "markdown",
   "metadata": {
    "id": "nU-YPCYK9pKc"
   },
   "source": [
    "Bayes' theorem menawarkan suatu formula untuk menghitung nilai probability dari suatu event dengan memanfaatkan pengetahuan sebelumnya dari kondisi terkait; atau sering kali dikenal dengan istilah conditional probability.\n",
    "\n",
    "$P(A|B) = \\frac{P(B|A) \\times P(A)}{P(B)}$ <br/>\n",
    "\n",
    "$P(y|X) = \\frac{P(X|y) \\times P(y)}{P(X)}$ <br/>\n",
    "\n",
    "$Posterior = \\frac{ Likelihood \\times Prior}{ Evidence }$ \n",
    "\n",
    "Catatan:\n",
    "- P(A) = Nilai kemungkinan muncul event A.\n",
    "- P(A|B) = Nilai kemungkinan muncul event A bila diketahui kemungkinan event B.\n",
    "- Sama seperti pembelajaran sebelumnya *y* adalah target label dan *X* adalah nilai features.\n"
   ]
  },
  {
   "cell_type": "markdown",
   "metadata": {
    "id": "-uJeTa9p9rIq"
   },
   "source": [
    "### Pengenalan Naive Bayes Classification"
   ]
  },
  {
   "cell_type": "markdown",
   "metadata": {
    "id": "nbMRnUiV9sUC"
   },
   "source": [
    "#### Studi Kasus 1"
   ]
  },
  {
   "cell_type": "markdown",
   "metadata": {
    "id": "TsiizBas9ts6"
   },
   "source": [
    "![](./images/asep_joko_snack.png)\n",
    "**Misi**: Lakukan prediksi siapa pelanggan yang melakukan pemesanan dengan diketahui pesanannya adalah **lumpia** dan **bakso**.\n",
    "- Subjek pada kasus ini berperan sebagai target label."
   ]
  },
  {
   "cell_type": "markdown",
   "metadata": {
    "id": "RyVm3RgI9ws_"
   },
   "source": [
    "#### Prior Probability: $P(y)$"
   ]
  },
  {
   "cell_type": "markdown",
   "metadata": {
    "id": "HrF9r_wW9zPN"
   },
   "source": [
    "- Referensi: https://en.wikipedia.org/wiki/Prior_probability\n",
    "- Adalah kemungkinan muncul nilai target label tanpa mempedulikan nilai features.\n",
    "- $P(Asep) = 0.5$\n",
    "- $P(Joko) = 0.5$"
   ]
  },
  {
   "cell_type": "markdown",
   "metadata": {
    "id": "Fl1-S-YW91yK"
   },
   "source": [
    "#### Likelihood: $P(X|y)$"
   ]
  },
  {
   "cell_type": "markdown",
   "metadata": {
    "id": "mUjd83g493Dd"
   },
   "source": [
    "- Referensi: https://en.wikipedia.org/wiki/Likelihood_function\n",
    "- Adalah kemungkinan kemunculan nilai features jika diketahui kemungkinan nilai target label.\n",
    "- Asep:\n",
    "$$\n",
    "\\begin{aligned}\n",
    " P(lumpia,bakso|Asep) &= (0.1 \\times 0.8)\\\\ \n",
    "                      &= 0.08\n",
    "\\end{aligned}\n",
    "$$\n",
    "\n",
    "- Joko:\n",
    "$$\n",
    "\\begin{aligned}\n",
    " P(lumpia,bakso|Joko) &= (0.3 \\times 0.2)\\\\ \n",
    "                      &= 0.06\n",
    "\\end{aligned}\n",
    "$$"
   ]
  },
  {
   "cell_type": "markdown",
   "metadata": {
    "id": "8ZfPPlL095Bq"
   },
   "source": [
    "#### Evidence atau Normalizer: $P(X)$"
   ]
  },
  {
   "cell_type": "markdown",
   "metadata": {
    "id": "MFnO8BH696GY"
   },
   "source": [
    "- Adalah hasil perkalian likelihood dan prior probability\n",
    "\n",
    "$$\n",
    "\\begin{aligned}\n",
    " Evidence &= \\sum (Likelihood \\times Prior) \\\\\n",
    " P(lumpia,bakso) &= (0.08 \\times 0.5)+ (0.06 \\times 0.5) \\\\\n",
    "                 &= 0.07\n",
    "\\end{aligned}\n",
    "$$\n",
    "\n",
    "<!-- - Evidence $= \\sum ($Likelihood $\\times$ Prior$)$\n",
    "- Evidence = $P($lumpia,bakso$) = P($lumpia,bakso$|$Asep$) \\times P($Asep$) + P($lumpia,bakso$|$Joko$) \\times P($Joko$)  = (0.08 \\times 0.5)+ (0.06 \\times 0.5) = 0.07$ -->"
   ]
  },
  {
   "cell_type": "markdown",
   "metadata": {
    "id": "JwUgO67i98Ft"
   },
   "source": [
    "#### Posterior Probability: $P(y|X)$ "
   ]
  },
  {
   "cell_type": "markdown",
   "metadata": {
    "id": "ILKkgm5v99zr"
   },
   "source": [
    "- Referensi: https://en.wikipedia.org/wiki/Posterior_probability\n",
    "- Adalah kemungkinan kemunculan nilai target label apabila jika diketahui nilai featuresnya.\n",
    "- Formula: <br/>\n",
    "$Posterior = \\frac{ Likelihood \\times Prior}{ Evidence }$\n",
    "- Asep:\n",
    "$$\n",
    "\\begin{aligned}\n",
    " P(Asep|lumpia,bakso) &= \\frac{0.08 \\times 0.5}{0.07} \\\\\n",
    "                      &= 0.57 \n",
    "\\end{aligned}\n",
    "$$\n",
    "\n",
    "- Joko:\n",
    "$$\n",
    "\\begin{aligned}\n",
    " P(Joko|lumpia,bakso) &= \\frac{0.06 \\times 0.5}{0.07} \\\\\n",
    "                      &= 0.43 \n",
    "\\end{aligned}\n",
    "$$\n",
    "\n",
    "- Kesimpulannya adalah jika yang dipesan adalah lumpia dan baso maka Naive Bayes akan menganggap Asep yang memesan."
   ]
  },
  {
   "cell_type": "markdown",
   "metadata": {
    "id": "yUWohDGG-AA3"
   },
   "source": [
    "#### Studi Kasus 2"
   ]
  },
  {
   "cell_type": "markdown",
   "metadata": {
    "id": "Z5lOsuRY-BLH"
   },
   "source": [
    "![](./images/asep_joko_snack.png)\n",
    "**Misi**: Lakukan prediksi siapa pelanggan yang melakukan pemesanan dengan diketahui pesanannya adalah **siomay** dan **bakso**."
   ]
  },
  {
   "cell_type": "markdown",
   "metadata": {
    "id": "QQu6YOoD-DCE"
   },
   "source": [
    "#### Posterior Probability: $P(y|X)$ (kasus 2)"
   ]
  },
  {
   "cell_type": "markdown",
   "metadata": {
    "id": "9-DGGwQL-Eik"
   },
   "source": [
    "- pesanan: siomay, bakso\n",
    "- Evidence: $P(X)$\n",
    "$$\n",
    "\\begin{aligned}\n",
    "P(siomay,bakso) &= (0.1 \\times 0.8 \\times 0.5) + (0.5 \\times 0.2 \\times 0.5) \\\\\n",
    "&= 0.09\n",
    "\\end{aligned}\n",
    "$$\n",
    "\n",
    "- Asep:\n",
    "$$\n",
    "\\begin{aligned}\n",
    "P(Asep|siomay,bakso) &= \\frac{(0.1 \\times 0.8) \\times 0.5}{0.09} \\\\\n",
    "                     &= 0.444\n",
    "\\end{aligned}\n",
    "$$\n",
    "\n",
    "- Joko:\n",
    "$$\n",
    "\\begin{aligned}\n",
    "P(Joko|siomay,bakso) &= \\frac{(0.5 \\times 0.2) \\times 0.5}{0.09} \\\\\n",
    "                     &= 0.555\n",
    "\\end{aligned}\n",
    "$$"
   ]
  },
  {
   "cell_type": "markdown",
   "metadata": {
    "id": "eqZTfk2p-H0s"
   },
   "source": [
    "### Mengapa disebut Naive?"
   ]
  },
  {
   "cell_type": "markdown",
   "metadata": {
    "id": "LZIbxdhZ-I2L"
   },
   "source": [
    "- Karena sewaktu kita mendefinisikan Likelihood $P(lumpia,bakso|Asep)$, <br/>\n",
    "- kita mengasumsikan $P(lumpia|Asep)$ conditionally independent terhadap $P(bakso|Asep)$; demikian sebaliknya. <br/>\n",
    "- Sehingga dapat diformulasikan sebagai berikut:\n",
    "\n",
    "$P(lumpia,bakso|Asep) = P(lumpia|Asep) \\times P(bakso|Asep)$"
   ]
  },
  {
   "cell_type": "markdown",
   "metadata": {
    "id": "G4tL8jfI-K-6"
   },
   "source": [
    "### Dataset: Breast Cancer Wisconsin (Diagnostic) "
   ]
  },
  {
   "cell_type": "markdown",
   "metadata": {
    "id": "DI0JkD6A-MVu"
   },
   "source": [
    "Referensi: https://archive.ics.uci.edu/ml/datasets/Breast+Cancer+Wisconsin+(Diagnostic)"
   ]
  },
  {
   "cell_type": "markdown",
   "metadata": {
    "id": "VKq1xRJO-No1"
   },
   "source": [
    "#### Load Dataset"
   ]
  },
  {
   "cell_type": "markdown",
   "metadata": {
    "id": "OcEIWpzw-PAh"
   },
   "source": [
    "- Untuk mengetahui deskripsi suatu fungsi fungsi digunakan method `DESCR()`.\n",
    "- Sedangkan, untuk mengetahui documentation fungsi, tambahkan '?' dibelakang fungsi tersebut."
   ]
  },
  {
   "cell_type": "code",
   "execution_count": 1,
   "metadata": {
    "colab": {
     "base_uri": "https://localhost:8080/"
    },
    "id": "3UJatpRI-Qky",
    "outputId": "c8bce97d-7d89-4f5d-ee09-e736b249fb46"
   },
   "outputs": [
    {
     "name": "stdout",
     "output_type": "stream",
     "text": [
      ".. _breast_cancer_dataset:\n",
      "\n",
      "Breast cancer wisconsin (diagnostic) dataset\n",
      "--------------------------------------------\n",
      "\n",
      "**Data Set Characteristics:**\n",
      "\n",
      "    :Number of Instances: 569\n",
      "\n",
      "    :Number of Attributes: 30 numeric, predictive attributes and the class\n",
      "\n",
      "    :Attribute Information:\n",
      "        - radius (mean of distances from center to points on the perimeter)\n",
      "        - texture (standard deviation of gray-scale values)\n",
      "        - perimeter\n",
      "        - area\n",
      "        - smoothness (local variation in radius lengths)\n",
      "        - compactness (perimeter^2 / area - 1.0)\n",
      "        - concavity (severity of concave portions of the contour)\n",
      "        - concave points (number of concave portions of the contour)\n",
      "        - symmetry\n",
      "        - fractal dimension (\"coastline approximation\" - 1)\n",
      "\n",
      "        The mean, standard error, and \"worst\" or largest (mean of the three\n",
      "        worst/largest values) of these features were computed for each image,\n",
      "        resulting in 30 features.  For instance, field 0 is Mean Radius, field\n",
      "        10 is Radius SE, field 20 is Worst Radius.\n",
      "\n",
      "        - class:\n",
      "                - WDBC-Malignant\n",
      "                - WDBC-Benign\n",
      "\n",
      "    :Summary Statistics:\n",
      "\n",
      "    ===================================== ====== ======\n",
      "                                           Min    Max\n",
      "    ===================================== ====== ======\n",
      "    radius (mean):                        6.981  28.11\n",
      "    texture (mean):                       9.71   39.28\n",
      "    perimeter (mean):                     43.79  188.5\n",
      "    area (mean):                          143.5  2501.0\n",
      "    smoothness (mean):                    0.053  0.163\n",
      "    compactness (mean):                   0.019  0.345\n",
      "    concavity (mean):                     0.0    0.427\n",
      "    concave points (mean):                0.0    0.201\n",
      "    symmetry (mean):                      0.106  0.304\n",
      "    fractal dimension (mean):             0.05   0.097\n",
      "    radius (standard error):              0.112  2.873\n",
      "    texture (standard error):             0.36   4.885\n",
      "    perimeter (standard error):           0.757  21.98\n",
      "    area (standard error):                6.802  542.2\n",
      "    smoothness (standard error):          0.002  0.031\n",
      "    compactness (standard error):         0.002  0.135\n",
      "    concavity (standard error):           0.0    0.396\n",
      "    concave points (standard error):      0.0    0.053\n",
      "    symmetry (standard error):            0.008  0.079\n",
      "    fractal dimension (standard error):   0.001  0.03\n",
      "    radius (worst):                       7.93   36.04\n",
      "    texture (worst):                      12.02  49.54\n",
      "    perimeter (worst):                    50.41  251.2\n",
      "    area (worst):                         185.2  4254.0\n",
      "    smoothness (worst):                   0.071  0.223\n",
      "    compactness (worst):                  0.027  1.058\n",
      "    concavity (worst):                    0.0    1.252\n",
      "    concave points (worst):               0.0    0.291\n",
      "    symmetry (worst):                     0.156  0.664\n",
      "    fractal dimension (worst):            0.055  0.208\n",
      "    ===================================== ====== ======\n",
      "\n",
      "    :Missing Attribute Values: None\n",
      "\n",
      "    :Class Distribution: 212 - Malignant, 357 - Benign\n",
      "\n",
      "    :Creator:  Dr. William H. Wolberg, W. Nick Street, Olvi L. Mangasarian\n",
      "\n",
      "    :Donor: Nick Street\n",
      "\n",
      "    :Date: November, 1995\n",
      "\n",
      "This is a copy of UCI ML Breast Cancer Wisconsin (Diagnostic) datasets.\n",
      "https://goo.gl/U2Uwz2\n",
      "\n",
      "Features are computed from a digitized image of a fine needle\n",
      "aspirate (FNA) of a breast mass.  They describe\n",
      "characteristics of the cell nuclei present in the image.\n",
      "\n",
      "Separating plane described above was obtained using\n",
      "Multisurface Method-Tree (MSM-T) [K. P. Bennett, \"Decision Tree\n",
      "Construction Via Linear Programming.\" Proceedings of the 4th\n",
      "Midwest Artificial Intelligence and Cognitive Science Society,\n",
      "pp. 97-101, 1992], a classification method which uses linear\n",
      "programming to construct a decision tree.  Relevant features\n",
      "were selected using an exhaustive search in the space of 1-4\n",
      "features and 1-3 separating planes.\n",
      "\n",
      "The actual linear program used to obtain the separating plane\n",
      "in the 3-dimensional space is that described in:\n",
      "[K. P. Bennett and O. L. Mangasarian: \"Robust Linear\n",
      "Programming Discrimination of Two Linearly Inseparable Sets\",\n",
      "Optimization Methods and Software 1, 1992, 23-34].\n",
      "\n",
      "This database is also available through the UW CS ftp server:\n",
      "\n",
      "ftp ftp.cs.wisc.edu\n",
      "cd math-prog/cpo-dataset/machine-learn/WDBC/\n",
      "\n",
      ".. topic:: References\n",
      "\n",
      "   - W.N. Street, W.H. Wolberg and O.L. Mangasarian. Nuclear feature extraction \n",
      "     for breast tumor diagnosis. IS&T/SPIE 1993 International Symposium on \n",
      "     Electronic Imaging: Science and Technology, volume 1905, pages 861-870,\n",
      "     San Jose, CA, 1993.\n",
      "   - O.L. Mangasarian, W.N. Street and W.H. Wolberg. Breast cancer diagnosis and \n",
      "     prognosis via linear programming. Operations Research, 43(4), pages 570-577, \n",
      "     July-August 1995.\n",
      "   - W.H. Wolberg, W.N. Street, and O.L. Mangasarian. Machine learning techniques\n",
      "     to diagnose breast cancer from fine-needle aspirates. Cancer Letters 77 (1994) \n",
      "     163-171.\n"
     ]
    }
   ],
   "source": [
    "from sklearn.datasets import load_breast_cancer\n",
    "\n",
    "print(load_breast_cancer().DESCR)"
   ]
  },
  {
   "cell_type": "code",
   "execution_count": 2,
   "metadata": {
    "colab": {
     "base_uri": "https://localhost:8080/"
    },
    "id": "GKgzDaOZ-Ta3",
    "outputId": "c661ca5f-b39a-4df0-b2f4-26c12bb5390c"
   },
   "outputs": [
    {
     "data": {
      "text/plain": [
       "(569, 30)"
      ]
     },
     "execution_count": 2,
     "metadata": {},
     "output_type": "execute_result"
    }
   ],
   "source": [
    "# load_breast_cancer?\n",
    "### Kode dibawah digunakan untuk memisahkan nilai feature dan nilai label.\n",
    "X, y = load_breast_cancer(return_X_y=True)\n",
    "X.shape"
   ]
  },
  {
   "cell_type": "markdown",
   "metadata": {
    "id": "E_U6b6Fb-X9b"
   },
   "source": [
    "#### Training & Testing Set"
   ]
  },
  {
   "cell_type": "code",
   "execution_count": 3,
   "metadata": {
    "colab": {
     "base_uri": "https://localhost:8080/"
    },
    "id": "DJpdWAXM-W6W",
    "outputId": "f3f49b80-934d-4d41-e066-08d8bb6071a1"
   },
   "outputs": [
    {
     "name": "stdout",
     "output_type": "stream",
     "text": [
      "X_train shape (455, 30)\n",
      "X_test shape (114, 30)\n"
     ]
    }
   ],
   "source": [
    "from sklearn.model_selection import train_test_split\n",
    "\n",
    "X_train, X_test, y_train, y_test = train_test_split(X,\n",
    "                                                    y,\n",
    "                                                    test_size=0.2,\n",
    "                                                    random_state=0)\n",
    "\n",
    "print(f'X_train shape {X_train.shape}')\n",
    "print(f'X_test shape {X_test.shape}')"
   ]
  },
  {
   "cell_type": "markdown",
   "metadata": {
    "id": "vjnklHAW-cKo"
   },
   "source": [
    "### Naive Bayes dengan Scikit Learn"
   ]
  },
  {
   "cell_type": "code",
   "execution_count": 4,
   "metadata": {
    "colab": {
     "base_uri": "https://localhost:8080/"
    },
    "id": "mEdzWKn7-dA4",
    "outputId": "187e0ee0-ceb0-4346-d270-e7da213c4117"
   },
   "outputs": [
    {
     "data": {
      "text/plain": [
       "0.9298245614035088"
      ]
     },
     "execution_count": 4,
     "metadata": {},
     "output_type": "execute_result"
    }
   ],
   "source": [
    "from sklearn.naive_bayes import GaussianNB\n",
    "from sklearn.metrics import accuracy_score\n",
    "\n",
    "model = GaussianNB()\n",
    "model.fit(X_train, y_train)\n",
    "y_pred = model.predict(X_test)\n",
    "accuracy_score(y_test, y_pred)"
   ]
  },
  {
   "cell_type": "code",
   "execution_count": 5,
   "metadata": {
    "colab": {
     "base_uri": "https://localhost:8080/"
    },
    "id": "KsEkm9AF-eVj",
    "outputId": "86c5056b-51fe-489a-9379-e8119b09b58d"
   },
   "outputs": [
    {
     "data": {
      "text/plain": [
       "0.9298245614035088"
      ]
     },
     "execution_count": 5,
     "metadata": {},
     "output_type": "execute_result"
    }
   ],
   "source": [
    "model.score(X_test, y_test)"
   ]
  }
 ],
 "metadata": {
  "colab": {
   "provenance": []
  },
  "kernelspec": {
   "display_name": "Python 3 (ipykernel)",
   "language": "python",
   "name": "python3"
  },
  "language_info": {
   "codemirror_mode": {
    "name": "ipython",
    "version": 3
   },
   "file_extension": ".py",
   "mimetype": "text/x-python",
   "name": "python",
   "nbconvert_exporter": "python",
   "pygments_lexer": "ipython3",
   "version": "3.9.7"
  }
 },
 "nbformat": 4,
 "nbformat_minor": 1
}
